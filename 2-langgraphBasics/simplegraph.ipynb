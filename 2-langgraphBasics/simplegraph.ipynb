{
 "cells": [
  {
   "cell_type": "code",
   "execution_count": 2,
   "id": "f26313b4",
   "metadata": {},
   "outputs": [],
   "source": [
    "from typing_extensions import TypedDict\n",
    "class State(TypedDict):\n",
    "    graph_info:str"
   ]
  },
  {
   "cell_type": "code",
   "execution_count": 3,
   "id": "d371df4c",
   "metadata": {},
   "outputs": [],
   "source": [
    "def start_play(state:State):\n",
    "    print(\"Start Play node has been called \")\n",
    "    return {\"graph_info\":state[\"graph_info\" ]+\"I am planning to play\"}\n",
    "\n",
    "def cricket(state:State):\n",
    "    print(\"Cricket node has been called\")\n",
    "    return {\"graph_info\":state[\"graph_info\" ]+\"cricket\"}\n",
    "\n",
    "def Badmintion(state:State):\n",
    "    print(\"Badmintion node has been called\")\n",
    "    return {\"graph_info\":state[\"graph_info\" ]+\"Badmintion\"}"
   ]
  },
  {
   "cell_type": "code",
   "execution_count": 4,
   "id": "6141e183",
   "metadata": {},
   "outputs": [],
   "source": [
    "import random \n",
    "from typing import Literal\n",
    "\n",
    "def random_play(state:State)->Literal['cricket','Badmintion']:\n",
    "    if random.random()>0.5:\n",
    "        return \"cricket\"\n",
    "    else:\n",
    "        return \"Badmintion\""
   ]
  },
  {
   "cell_type": "code",
   "execution_count": 5,
   "id": "3cd2e0dc",
   "metadata": {},
   "outputs": [
    {
     "data": {
      "image/png": "[encoded data removed]",
      "text/plain": [
       "<IPython.core.display.Image object>"
      ]
     },
     "metadata": {},
     "output_type": "display_data"
    }
   ],
   "source": [
    "from IPython.display import Image,display\n",
    "from langgraph.graph import StateGraph,START,END\n",
    "##build Graph\n",
    "graph=StateGraph(State)\n",
    "graph.add_node(\"start_play\",start_play)\n",
    "graph.add_node(\"cricket\",cricket)\n",
    "graph.add_node(\"Badmintion\",Badmintion)\n",
    "\n",
    "##scheduke the flow of the graph\n",
    "graph.add_edge(START,\"start_play\")\n",
    "graph.add_conditional_edges(\"start_play\",random_play)\n",
    "graph.add_edge(\"cricket\",END)\n",
    "graph.add_edge(\"Badmintion\",END)\n",
    "## compile the graph\n",
    "\n",
    "graph_builder=graph.compile()\n",
    "\n",
    "##view\n",
    "display(Image(graph_builder.get_graph().draw_mermaid_png()))"
   ]
  },
  {
   "cell_type": "code",
   "execution_count": 6,
   "id": "da0e9a3c",
   "metadata": {},
   "outputs": [
    {
     "name": "stdout",
     "output_type": "stream",
     "text": [
      "Start Play node has been called \n",
      "Badmintion node has been called\n"
     ]
    },
    {
     "data": {
      "text/plain": [
       "{'graph_info': 'my name is vikasI am planning to playBadmintion'}"
      ]
     },
     "execution_count": 6,
     "metadata": {},
     "output_type": "execute_result"
    }
   ],
   "source": [
    "graph_builder.invoke({\"graph_info\":\"my name is vikas\"})"
   ]
  }
 ],
 "metadata": {
  "kernelspec": {
   "display_name": "myenv",
   "language": "python",
   "name": "python3"
  },
  "language_info": {
   "codemirror_mode": {
    "name": "ipython",
    "version": 3
   },
   "file_extension": ".py",
   "mimetype": "text/x-python",
   "name": "python",
   "nbconvert_exporter": "python",
   "pygments_lexer": "ipython3",
   "version": "3.10.15"
  }
 },
 "nbformat": 4,
 "nbformat_minor": 5
}
