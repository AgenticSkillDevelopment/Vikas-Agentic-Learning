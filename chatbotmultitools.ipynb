{
 "cells": [
  {
   "cell_type": "code",
   "execution_count": 1,
   "id": "874155f9",
   "metadata": {},
   "outputs": [],
   "source": [
    "from langchain_community.tools import ArxivQueryRun,WikipediaQueryRun\n",
    "from langchain_community.utilities import ArxivAPIWrapper,WikipediaAPIWrapper"
   ]
  },
  {
   "cell_type": "code",
   "execution_count": 2,
   "id": "151b1dc9",
   "metadata": {},
   "outputs": [
    {
     "name": "stdout",
     "output_type": "stream",
     "text": [
      "arxiv\n"
     ]
    }
   ],
   "source": [
    "api_wrapper_arxiv=ArxivAPIWrapper(top_k_results=2,doc_content_chars_max=500)\n",
    "arxiv=ArxivQueryRun(api_wrapper=api_wrapper_arxiv,description=\"Query arxiv papers\")\n",
    "print(arxiv.name)"
   ]
  },
  {
   "cell_type": "code",
   "execution_count": 3,
   "id": "1ea58ea4",
   "metadata": {},
   "outputs": [
    {
     "data": {
      "text/plain": [
       "\"Published: 2024-07-22\\nTitle: Attention Is All You Need But You Don't Need All Of It For Inference of Large Language Models\\nAuthors: Georgy Tyukin, Gbetondji J-S Dovonon, Jean Kaddour, Pasquale Minervini\\nSummary: The inference demand for LLMs has skyrocketed in recent months, and serving\\nmodels with low latencies remains challenging due to the quadratic input length\\ncomplexity of the attention layers. In this work, we investigate the effect of\\ndropping MLP and attention layers at inference time o\""
      ]
     },
     "execution_count": 3,
     "metadata": {},
     "output_type": "execute_result"
    }
   ],
   "source": [
    "arxiv.invoke(\"attention is all you need\")\n"
   ]
  },
  {
   "cell_type": "code",
   "execution_count": 3,
   "id": "c0e5da4a",
   "metadata": {},
   "outputs": [
    {
     "name": "stdout",
     "output_type": "stream",
     "text": [
      "wikipedia\n"
     ]
    }
   ],
   "source": [
    "api_wrapper_arxiv=WikipediaAPIWrapper(top_k_results=2,doc_content_chars_max=500)\n",
    "wiki=WikipediaQueryRun(api_wrapper=api_wrapper_arxiv)\n",
    "print(wiki.name)"
   ]
  },
  {
   "cell_type": "code",
   "execution_count": 4,
   "id": "11a3723b",
   "metadata": {},
   "outputs": [],
   "source": [
    "from dotenv import load_dotenv\n",
    "load_dotenv()\n",
    "import os\n",
    "os.environ[\"TAVILY_API_KEY\"]=os.getenv(\"TAVILY_API_KEY\")\n",
    "os.environ[\"GROQ_API_KEY\"]=os.getenv(\"GROQ_API_KEY\")\n",
    "\n"
   ]
  },
  {
   "cell_type": "code",
   "execution_count": 5,
   "id": "2e59fb00",
   "metadata": {},
   "outputs": [
    {
     "name": "stderr",
     "output_type": "stream",
     "text": [
      "/tmp/ipykernel_12456/3543858584.py:2: LangChainDeprecationWarning: The class `TavilySearchResults` was deprecated in LangChain 0.3.25 and will be removed in 1.0. An updated version of the class exists in the :class:`~langchain-tavily package and should be used instead. To use it run `pip install -U :class:`~langchain-tavily` and import as `from :class:`~langchain_tavily import TavilySearch``.\n",
      "  tavily=TavilySearchResults()\n"
     ]
    }
   ],
   "source": [
    "from langchain_community.tools.tavily_search import TavilySearchResults\n",
    "tavily=TavilySearchResults()"
   ]
  },
  {
   "cell_type": "code",
   "execution_count": 6,
   "id": "6d53322e",
   "metadata": {},
   "outputs": [
    {
     "data": {
      "text/plain": [
       "[{'title': 'AI News | Latest AI News, Analysis & Events',\n",
       "  'url': 'https://www.artificialintelligence-news.com/',\n",
       "  'content': 'AI News reports on the latest artificial intelligence news and insights. Explore industry trends from the frontline of AI.',\n",
       "  'score': 0.6202772},\n",
       " {'title': 'AI News & Artificial Intelligence - TechCrunch',\n",
       "  'url': 'https://techcrunch.com/category/artificial-intelligence/',\n",
       "  'content': \"### [Scale AI confirms ‘significant’ investment from Meta, says CEO Alexandr Wang is leaving](https://techcrunch.com/2025/06/13/scale-ai-confirms-significant-investment-from-meta-says-ceo-alexandr-wang-is-leaving/)\\n\\n![dripping Facebook Meta logo](https://techcrunch.com/wp-content/uploads/2021/12/dripping-meta-logo.jpg?w=668)\\n\\n### [The Meta AI app is a privacy disaster](https://techcrunch.com/2025/06/12/the-meta-ai-app-is-a-privacy-disaster/) [...] ### [Taiwan places export controls on Huawei and SMIC](https://techcrunch.com/2025/06/15/taiwan-places-export-controls-on-huawei-and-smic/)\\n\\n![The Google logo and lettering can be seen on the facade of the company's Munich headquarters.](https://techcrunch.com/wp-content/uploads/2025/02/GettyImages-2199793091.jpg?w=562)\\n\\n### [Google reportedly plans to cut ties with Scale AI](https://techcrunch.com/2025/06/14/google-reportedly-plans-to-cut-ties-with-scale-ai/) [...] ### [Meta’s V-JEPA 2 model teaches AI to understand its surroundings](https://techcrunch.com/2025/06/11/metas-v-jepa-2-model-teaches-ai-to-understand-its-surroundings/)\\n\\n![Micha Kaufman](https://techcrunch.com/wp-content/uploads/2019/02/L7ITAiGj.jpeg?w=562)\\n\\n### [Fiverr’s CEO on why AI is coming for everyone](https://techcrunch.com/podcast/fiverrs-ceo-on-why-ai-is-coming-for-everyone/)\\n\\n![](https://techcrunch.com/wp-content/uploads/2025/06/wwdc-craig-and-joz.jpg?w=649)\",\n",
       "  'score': 0.59061456},\n",
       " {'title': 'Artificial Intelligence | Latest News, Photos & Videos - WIRED',\n",
       "  'url': 'https://www.wired.com/tag/artificial-intelligence/',\n",
       "  'content': '### Facing a Changing Industry, AI Activists Rethink Their Strategy\\n\\n![Demis Hassabis Embraces the Future of Work in the Age of AI](https://media.wired.com/photos/683e039d7fcbfb59910b6706/3:2/w_1280%2Cc_limit/DSC09515.jpg)\\n\\n### Demis Hassabis Embraces the Future of Work in the Age of AI\\n\\n### Deepfake Scams Are Distorting Reality Itself\\n\\n![The Rise of ‘Vibe Hacking’ Is the Next AI Nightmare](https://media.wired.com/photos/683dde00bb81c8212495c31b/3:2/w_1280%2Cc_limit/WIRED%2520STILL%252002.png) [...] ### AI Chatbots Are Making LA Protest Disinformation Worse\\n\\n![A Political Battle Is Brewing Over Data Centers](https://media.wired.com/photos/684036ef4c253f09088b983a/3:2/w_1280%2Cc_limit/GettyImages-2213382270.jpg)\\n\\n### A Political Battle Is Brewing Over Data Centers\\n\\n![Apple Is Pushing AI Into More of Its Products&-but Still Lacks a State-of-the-Art Model](https://media.wired.com/photos/684726c94c3cf40b5be20abf/3:2/w_1280%2Cc_limit/Apple-WWDC25-Apple-Intelligence-hero-250609.jpg)',\n",
       "  'score': 0.5780915},\n",
       " {'title': 'Artificial Intelligence - The New York Times',\n",
       "  'url': 'https://www.nytimes.com/spotlight/artificial-intelligence',\n",
       "  'content': 'A.I. has yet to upend Hollywood. But it is starting to make big inroads in animation.\\n\\n\\xa0By Brooks Barnes\\n\\n![](https://static01.nyt.com/images/2025/04/14/14visualUploader-75672-cover/14visualUploader-75672-cover-square640-v2.jpg?auto=webp)\\n\\n[Google Unveils A.I. Chatbot, Signaling a New Era for Search](/2025/05/20/technology/personaltech/google-ai-mode-search.html)\\n\\nThe tech giant is taking its next big step in artificial intelligence by adding interactive capabilities to its flagship product. [...] By Tripp Mickle\\n\\n![Sundar Pichai, the chief executive of Google, spoke on Tuesday about the company’s plans to bring more generative A.I. abilities to its flagship search product during its annual developers conference. ](https://static01.nyt.com/images/2025/05/20/multimedia/20biz-google-sundar-lbtm/20biz-google-sundar-lbtm-square640.jpg?auto=webp)\\n\\n[A New App Uses A.I. to Speed Jewelry Design](/2025/05/20/fashion/jewelry-blng-artificial-intelligence-app.html) [...] ![Mark Zuckerberg’s new A.I. lab aims to hire some of the top A.I. researchers in the world.](https://static01.nyt.com/images/2025/06/12/multimedia/00biz-superintelligence-ljkv/00biz-superintelligence-ljkv-videoLarge.jpg?auto=webp)\\n\\n### [This A.I. Company Wants to Take Your Job](/2025/06/11/technology/ai-mechanize-jobs.html)\\n\\nMechanize, a San Francisco start-up, is building artificial intelligence tools to automate white-collar jobs “as fast as possible.”\\n\\n\\xa0By Kevin Roose',\n",
       "  'score': 0.55912215},\n",
       " {'title': 'Artificial intelligence - NBC News',\n",
       "  'url': 'https://www.nbcnews.com/artificial-intelligence',\n",
       "  'content': \"## [Hollywood giants sue AI image firm for unlicensed use of 'Star Wars,' 'The Simpsons' and more](https://www.nbcnews.com/business/business-news/disney-universal-sue-ai-image-company-midjourney-unlicensed-star-wars-rcna212369)\\n\\n## AI NEWS\\n\\n![Corporate CEO's Speak At The Hill & Valley Forum On Capitol Hill](https://media-cldnry.s-nbcnews.com/image/upload/t_focal-80x80,f_auto,q_auto:best/rockcms/2025-06/250605-alex-karp-ew-154p-0546d9.jpg) [...] ## Nvidia CEO hails Trump's plan to rescind some export curbs on AI chips to China\\n\\n![Jensen Huang](https://media-cldnry.s-nbcnews.com/image/upload/t_focal-200x100,f_auto,q_auto:best/rockcms/2025-05/250521-Jensen-Huang-RS-5faf64.jpg)\\n![Jensen Huang](https://media-cldnry.s-nbcnews.com/image/upload/t_focal-200x100,f_auto,q_auto:best/rockcms/2025-05/250521-Jensen-Huang-RS-5faf64.jpg)\\n\\n## Google I/O 2025: Gemini AI, Android XR glasses, Google Beam, Project Astra, Chrome and deep search news [...] ![](https://media-cldnry.s-nbcnews.com/image/upload/t_focal-260x130,f_auto,q_auto:best/mpx/2704722219/2025_03/1743128535176_now_staytuned_man_chatgpt_complaint_250327_1920x1080-fhevmx.jpg)\\n\\n## 02:35\\n\\n### [Man files complaint after ChatGPT falsely claimed he murdered his children](https://www.nbcnews.com/now/video/man-files-complaint-after-chatgpt-falsely-claimed-he-murdered-his-children-235630661781)\\n\\n## NBC News NOW\\n\\n## MORE AI NEWS\",\n",
       "  'score': 0.5585443}]"
      ]
     },
     "execution_count": 6,
     "metadata": {},
     "output_type": "execute_result"
    }
   ],
   "source": [
    "tavily.invoke(\"provide me the recent ai news? \")"
   ]
  },
  {
   "cell_type": "code",
   "execution_count": 7,
   "id": "27f2653f",
   "metadata": {},
   "outputs": [],
   "source": [
    "#all tools\n",
    "tools=[arxiv,wiki,tavily]"
   ]
  },
  {
   "cell_type": "code",
   "execution_count": 8,
   "id": "4221338a",
   "metadata": {},
   "outputs": [],
   "source": [
    "from langchain_groq import ChatGroq\n",
    "llm=ChatGroq(model=\"qwen-qwq-32b\")"
   ]
  },
  {
   "cell_type": "code",
   "execution_count": 9,
   "id": "cd7cd19a",
   "metadata": {},
   "outputs": [
    {
     "data": {
      "text/plain": [
       "AIMessage(content='\\n<think>\\nOkay, so I need to explain what AI is. Let\\'s start with the basics. AI stands for Artificial Intelligence. But what does that really mean? I remember hearing it\\'s about making machines smart. But how?\\n\\nMaybe I should break it down. The term \"artificial\" means something made by humans, right? And \"intelligence\" is the ability to learn, understand, reason, and solve problems. So putting them together, AI is when humans create systems that can perform tasks that normally require human intelligence.\\n\\nWait, but what are those tasks exactly? Like, things like recognizing objects in images, understanding speech, making decisions, playing games, etc. I think there are different types of AI. There\\'s weak AI and strong AI. Weak AI is what we have now, like Siri or Alexa, which are designed for specific tasks. They can\\'t do anything beyond their programming. Strong AI would be a machine that can do anything a human can do, but I don\\'t think we\\'re there yet.\\n\\nThen there are categories like machine learning, which is a subset of AI. Machine learning involves training models on data to make predictions or decisions. Deep learning is a part of machine learning using neural networks with many layers. So neural networks are inspired by the human brain, right? They process information in layers of interconnected nodes.\\n\\nApplications of AI are everywhere. In healthcare, it helps analyze medical images or predict diseases. In finance, it\\'s used for fraud detection. In autonomous vehicles, AI processes sensor data to navigate. Then there\\'s natural language processing (NLP) for chatbots and translation services.\\n\\nI should mention the challenges too. AI systems can have biases if the training data isn\\'t diverse. There\\'s also the ethical aspect, like privacy concerns and job displacement. Plus, explainability is an issue; sometimes AI decisions are a \"black box,\" making it hard to understand why it made a certain choice.\\n\\nWait, maybe I should structure this in a clear way. Start with a definition, then types, how it works (maybe touch on ML and neural networks), applications, challenges, and future directions. That makes sense. I should also clarify that AI isn\\'t just one thing but a broad field with various subfields and techniques.\\n\\nHmm, do I need to explain machine learning in more detail? Maybe briefly, since it\\'s a subset. Also, differentiate between AI and robotics? Or is that part of AI applications? Probably applications. Maybe mention that AI can be software-based without a physical form, like a chatbot versus a robot.\\n\\nI should also mention the goals of AI: to create systems that can perceive their environment, learn from data, reason, and act to achieve objectives. Historical context might help, like mentioning early AI research in the 1950s but then the challenges faced, leading to the current resurgence with big data and better algorithms.\\n\\nWait, the user asked \"what is AI?\" so maybe the answer should be concise but comprehensive. Let me outline the key points:\\n\\n1. Definition: AI is the science and engineering of making intelligent machines.\\n2. Types: Weak vs. Strong AI, Narrow vs. General AI.\\n3. How it works: Machine learning, neural networks, data-driven decision-making.\\n4. Applications: Healthcare, finance, autonomous vehicles, etc.\\n5. Challenges: Bias, ethics, technical limitations.\\n6. Current state and future: Current progress, future possibilities and concerns.\\n\\nI should also clarify common misconceptions, like AI being sentient or having consciousness, which it\\'s not. It\\'s all about programmed algorithms and data patterns.\\n\\nMaybe include examples to make it clearer. For instance, spam filters use AI to detect unwanted emails, recommendation systems on Netflix, self-driving cars.\\n\\nAlso touch on the difference between AI and automation. Automation is doing repetitive tasks, while AI involves learning and adapting.\\n\\nIs there anything else? Perhaps the fields that contribute to AI: computer science, mathematics, psychology, linguistics. But maybe that\\'s too detailed.\\n\\nNeed to make sure the explanation is accessible, avoiding too much jargon. Since the question is from a user, they might be looking for an overview without getting too technical. But since it\\'s a detailed question, a thorough but clear explanation would be best.\\n\\nI should check if I got everything right. Let me think: AI isn\\'t just one technology but a collection of approaches. The term was coined in the 1950s. The current boom is due to big data, better algorithms like deep learning, and increased computing power. Yes, that\\'s important to mention the factors enabling modern AI.\\n\\nAlright, time to put this all together in a coherent way, starting from the definition, then expanding into types, methods, applications, challenges, and future aspects. Make sure it\\'s structured so the user can follow along easily.\\n</think>\\n\\n**Artificial Intelligence (AI)** is a field of computer science and engineering focused on creating systems that can perform tasks requiring human-like intelligence. These systems can learn, reason, solve problems, and adapt to new information. Below is a structured overview of AI:\\n\\n---\\n\\n### **1. Definition**\\n- **Core Idea**: AI enables machines to mimic aspects of human intelligence, such as perception, learning, decision-making, and problem-solving.\\n- **Key Characteristics**:\\n  - **Autonomy**: Systems operate independently to achieve goals.\\n  - **Adaptability**: They learn from data to improve performance over time.\\n  - **Versatility**: Can handle tasks ranging from simple to complex (e.g., voice recognition to medical diagnostics).\\n\\n---\\n\\n### **2. Types of AI**\\n- **Narrow (Weak) AI**:\\n  - Designed for **specific tasks**.\\n  - Examples: Siri, chatbots, spam filters, recommendation systems (e.g., Netflix).\\n  - *Limitation*: Lacks general intelligence beyond its programmed scope.\\n\\n- **General (Strong) AI**:\\n  - Hypothetical AI capable of **human-like cognitive abilities** across multiple tasks (e.g., creativity, emotional understanding).\\n  - *Current Status*: Does not exist yet; still a research goal.\\n\\n---\\n\\n### **3. How AI Works**\\n- **Machine Learning (ML)**:\\n  - A subset of AI where systems learn patterns from **data** without explicit programming.\\n  - *Example*: Predicting customer preferences using historical purchase data.\\n\\n- **Deep Learning**:\\n  - A type of ML using **neural networks** (inspired by the human brain) with multiple layers.\\n  - *Applications*: Image recognition, speech synthesis, and gaming (e.g., AlphaGo).\\n\\n- **Natural Language Processing (NLP)**:\\n  - Enabling machines to understand and generate human language.\\n  - *Examples*: Chatbots, translation tools (e.g., Google Translate).\\n\\n---\\n\\n### **4. Applications**\\n- **Healthcare**: Diagnosing diseases via medical imaging analysis (e.g., detecting cancer in X-rays).\\n- **Transportation**: Autonomous vehicles (e.g., Tesla’s self-driving cars).\\n- **Finance**: Fraud detection, algorithmic trading, and credit scoring.\\n- **Entertainment**: Personalized recommendations (Spotify, Netflix), and AI-generated art/music.\\n- **Customer Service**: Chatbots for 24/7 support, reducing human effort.\\n\\n---\\n\\n### **5. Technical Foundations**\\n- **Data**: AI relies on large datasets to train models.\\n- **Algorithms**: Mathematical models (e.g., decision trees, neural networks) to process data.\\n- **Computing Power**: GPUs and cloud computing enable handling massive data efficiently.\\n\\n---\\n\\n### **6. Challenges & Ethical Considerations**\\n- **Bias & Fairness**: AI models can inherit biases from training data (e.g., facial recognition algorithms favoring certain demographics).\\n- **Privacy**: Collection of personal data raises ethical concerns (e.g., surveillance).\\n- **Job Displacement**: Automation may disrupt industries, necessitating workforce adaptation.\\n- **Explainability (Black-Box Problem)**: Complex models like deep learning can be opaque, making decisions hard to interpret.\\n- **Safety & Control**: Ensuring AI systems align with human values and don’t cause unintended harm.\\n\\n---\\n\\n### **7. Evolution & Future**\\n- **Historical Context**:\\n  - Pioneered in the 1950s but faced setbacks (\"AI winters\") due to computational limits and overambitious goals.\\n  - **Modern Renaissance**: Driven by big data, improved algorithms, and cloud computing.\\n\\n- **Future Directions**:\\n  - **General AI**: Long-term goal of achieving human-like cognitive abilities.\\n  - **Ethical AI**: Developing frameworks for fairness, accountability, and transparency.\\n  - **Human-AI Collaboration**: Enhancing tools for sectors like education, climate science, and space exploration.\\n\\n---\\n\\n### **8. Common Misconceptions**\\n- **AI ≠ Consciousness**: AI systems lack self-awareness or emotions; they follow programmed logic.\\n- **AI ≠ Automation**: Automation performs repetitive tasks (e.g., assembly lines), while AI involves learning and adaptation.\\n\\n---\\n\\n### **9. Key Fields Contributing to AI**\\n- **Computer Science**: Algorithms, software engineering.\\n- **Mathematics**: Statistics, linear algebra.\\n- **Neuroscience**: Inspiring neural network architectures.\\n- **Robotics**: Integrating AI with physical systems for tasks like manufacturing or rescue operations.\\n\\n---\\n\\n### **Conclusion**\\nAI is a transformative technology with vast potential but also ethical and technical hurdles. It continues to evolve, driven by interdisciplinary research and innovation, promising to reshape industries and daily life while requiring careful stewardship to ensure benefits outweigh risks.\\n\\nIf you have follow-up questions about specific areas (e.g., how machine learning works, ethical issues, or real-world examples), feel free to ask!', additional_kwargs={}, response_metadata={'token_usage': {'completion_tokens': 1984, 'prompt_tokens': 14, 'total_tokens': 1998, 'completion_time': 4.604520062, 'prompt_time': 0.002874541, 'queue_time': 0.268593935, 'total_time': 4.607394603}, 'model_name': 'qwen-qwq-32b', 'system_fingerprint': 'fp_28178d7ff6', 'finish_reason': 'stop', 'logprobs': None}, id='run--5ba1cd97-1499-4173-9685-d6ec1d98ddce-0', usage_metadata={'input_tokens': 14, 'output_tokens': 1984, 'total_tokens': 1998})"
      ]
     },
     "execution_count": 9,
     "metadata": {},
     "output_type": "execute_result"
    }
   ],
   "source": [
    "llm.invoke(\"what is Ai?\")"
   ]
  },
  {
   "cell_type": "code",
   "execution_count": 10,
   "id": "6b66483f",
   "metadata": {},
   "outputs": [],
   "source": [
    "llm_with_tools=llm.bind_tools(tools=tools)"
   ]
  },
  {
   "cell_type": "code",
   "execution_count": 11,
   "id": "4c4d826e",
   "metadata": {},
   "outputs": [
    {
     "data": {
      "text/plain": [
       "AIMessage(content='', additional_kwargs={'tool_calls': [{'id': 'hx5wr8epq', 'function': {'arguments': '{\"query\":\"recent news on AI\"}', 'name': 'tavily_search_results_json'}, 'type': 'function'}]}, response_metadata={'token_usage': {'completion_tokens': 142, 'prompt_tokens': 269, 'total_tokens': 411, 'completion_time': 0.328155477, 'prompt_time': 0.022801031, 'queue_time': 0.820606768, 'total_time': 0.350956508}, 'model_name': 'qwen-qwq-32b', 'system_fingerprint': 'fp_28178d7ff6', 'finish_reason': 'tool_calls', 'logprobs': None}, id='run--5d208e8c-e806-4c83-8df4-769e7f6142e6-0', tool_calls=[{'name': 'tavily_search_results_json', 'args': {'query': 'recent news on AI'}, 'id': 'hx5wr8epq', 'type': 'tool_call'}], usage_metadata={'input_tokens': 269, 'output_tokens': 142, 'total_tokens': 411})"
      ]
     },
     "execution_count": 11,
     "metadata": {},
     "output_type": "execute_result"
    }
   ],
   "source": [
    "##call bind tool\n",
    "llm_with_tools.invoke(\"what is recent news on AI?\")"
   ]
  },
  {
   "cell_type": "code",
   "execution_count": null,
   "id": "a9b4cec8",
   "metadata": {},
   "outputs": [],
   "source": [
    "#workflow"
   ]
  },
  {
   "cell_type": "code",
   "execution_count": 12,
   "id": "e233e612",
   "metadata": {},
   "outputs": [],
   "source": [
    "\n",
    "from typing_extensions import TypedDict\n",
    "from langchain_core.messages import AnyMessage #human message or ai message\n",
    "from typing import Annotated\n",
    "from langgraph.graph.message import add_messages ##reducers in langgraph\n"
   ]
  },
  {
   "cell_type": "code",
   "execution_count": 13,
   "id": "b149e1d2",
   "metadata": {},
   "outputs": [],
   "source": [
    "class State(TypedDict):\n",
    "    messages:Annotated[list[AnyMessage],add_messages]"
   ]
  },
  {
   "cell_type": "code",
   "execution_count": 14,
   "id": "ba99faec",
   "metadata": {},
   "outputs": [],
   "source": [
    "##eniter chat bot with graph\n",
    "from IPython.display import Image,display\n",
    "from langgraph.graph import StateGraph,START,END\n",
    "from langgraph.prebuilt import ToolNode,tools_condition\n"
   ]
  },
  {
   "cell_type": "code",
   "execution_count": 20,
   "id": "d741b15b",
   "metadata": {},
   "outputs": [
    {
     "data": {
      "image/png": "[encoded data removed]",
      "text/plain": [
       "<IPython.core.display.Image object>"
      ]
     },
     "metadata": {},
     "output_type": "display_data"
    }
   ],
   "source": [
    "def tool_calling_llm(state:State):\n",
    "    return {\"messages\":[llm_with_tools.invoke(state[\"messages\"])]}\n",
    "\n",
    "#Build graph\n",
    "\n",
    "builder=StateGraph(State)\n",
    "builder.add_node(\"tool_calling_llm\",tool_calling_llm)\n",
    "builder.add_node(\"tools\",ToolNode(tools))\n",
    "\n",
    "##edges\n",
    "\n",
    "builder.add_edge(START,\"tool_calling_llm\")\n",
    "builder.add_conditional_edges(\"tool_calling_llm\",tools_condition)\n",
    "builder.add_edge(\"tools\",END)\n",
    "\n",
    "graph=builder.compile()\n",
    "\n",
    "#view\n",
    "\n",
    "display(Image(graph.get_graph().draw_mermaid_png()))"
   ]
  },
  {
   "cell_type": "code",
   "execution_count": 21,
   "id": "fd67c4e9",
   "metadata": {},
   "outputs": [
    {
     "name": "stdout",
     "output_type": "stream",
     "text": [
      "================================\u001b[1m Human Message \u001b[0m=================================\n",
      "\n",
      "1706.03762\n",
      "==================================\u001b[1m Ai Message \u001b[0m==================================\n",
      "Tool Calls:\n",
      "  arxiv (tkqx0m59e)\n",
      " Call ID: tkqx0m59e\n",
      "  Args:\n",
      "    query: 1706.03762\n",
      "=================================\u001b[1m Tool Message \u001b[0m=================================\n",
      "Name: arxiv\n",
      "\n",
      "Published: 2023-08-02\n",
      "Title: Attention Is All You Need\n",
      "Authors: Ashish Vaswani, Noam Shazeer, Niki Parmar, Jakob Uszkoreit, Llion Jones, Aidan N. Gomez, Lukasz Kaiser, Illia Polosukhin\n",
      "Summary: The dominant sequence transduction models are based on complex recurrent or\n",
      "convolutional neural networks in an encoder-decoder configuration. The best\n",
      "performing models also connect the encoder and decoder through an attention\n",
      "mechanism. We propose a new simple network architecture, the Transformer, base\n"
     ]
    }
   ],
   "source": [
    "messages=graph.invoke({\"messages\":\"1706.03762\"})\n",
    "for m in messages['messages']:\n",
    "    m.pretty_print()"
   ]
  },
  {
   "cell_type": "code",
   "execution_count": 23,
   "id": "fa85010e",
   "metadata": {},
   "outputs": [
    {
     "name": "stdout",
     "output_type": "stream",
     "text": [
      "================================\u001b[1m Human Message \u001b[0m=================================\n",
      "\n",
      "hi my name is vikas\n",
      "==================================\u001b[1m Ai Message \u001b[0m==================================\n",
      "\n",
      "Hello Vikas! Nice to meet you. How can I assist you today? Feel free to ask me any questions or let me know if you need help with anything specific! 😊\n"
     ]
    }
   ],
   "source": [
    "messages=graph.invoke({\"messages\":\"hi my name is vikas\"})\n",
    "for m in messages['messages']:\n",
    "    m.pretty_print()"
   ]
  },
  {
   "cell_type": "code",
   "execution_count": 24,
   "id": "9a165842",
   "metadata": {},
   "outputs": [
    {
     "data": {
      "image/png": "[encoded data removed]",
      "text/plain": [
       "<IPython.core.display.Image object>"
      ]
     },
     "metadata": {},
     "output_type": "display_data"
    }
   ],
   "source": [
    "def tool_calling_llm(state:State):\n",
    "    return {\"messages\":[llm_with_tools.invoke(state[\"messages\"])]}\n",
    "\n",
    "#Build graph\n",
    "\n",
    "builder=StateGraph(State)\n",
    "builder.add_node(\"tool_calling_llm\",tool_calling_llm)\n",
    "builder.add_node(\"tools\",ToolNode(tools))\n",
    "\n",
    "##edges\n",
    "\n",
    "builder.add_edge(START,\"tool_calling_llm\")\n",
    "builder.add_conditional_edges(\"tool_calling_llm\",tools_condition)\n",
    "builder.add_edge(\"tools\",\"tool_calling_llm\")\n",
    "\n",
    "graph=builder.compile()\n",
    "\n",
    "#view\n",
    "\n",
    "display(Image(graph.get_graph().draw_mermaid_png()))"
   ]
  },
  {
   "cell_type": "code",
   "execution_count": 26,
   "id": "dabfe36a",
   "metadata": {},
   "outputs": [
    {
     "name": "stdout",
     "output_type": "stream",
     "text": [
      "================================\u001b[1m Human Message \u001b[0m=================================\n",
      "\n",
      "what is recent ml news and then please tell me the recent research papper on cloud computing\n",
      "==================================\u001b[1m Ai Message \u001b[0m==================================\n",
      "Tool Calls:\n",
      "  tavily_search_results_json (d5qbpkmj9)\n",
      " Call ID: d5qbpkmj9\n",
      "  Args:\n",
      "    query: recent machine learning news\n",
      "  arxiv (hkfneg0df)\n",
      " Call ID: hkfneg0df\n",
      "  Args:\n",
      "    query: recent research papers on cloud computing\n",
      "=================================\u001b[1m Tool Message \u001b[0m=================================\n",
      "Name: tavily_search_results_json\n",
      "\n",
      "[{\"title\": \"Machine Learning & AI recent news | InformationWeek\", \"url\": \"https://www.informationweek.com/machine-learning-ai\", \"content\": \"GSIMntF243ibDlXIZS7J+lQki7YMoyFP5u0U96LNBpMETmoPEquLQOXCWHqA7xpJjYCp/FpE/HJEGyIe2a7pPxS0ArJjJR9OLlQ1EGrygvR/tUbywpAHyEK3mW69u7LYg0uAFzv0CgAZzEedelMNEpAEAoA9MJQ1w0ZZzE5KZAABAyYyliM3Xvgl0wJIGAICCqSTlrnYNejdgSQMAQIlMDBIEaaB6/BNLGgAASiMm8ukiOGwri4NHSUyTfiLftL4MkQYvkN4SANpQZRbojXzfYyLM2UCkwQucIQaANjxkEOiNfM9d13MTIg19xeO5a+3c5HgfYGjcGu9BLyVSXLv++8kg0tBXtDOYaaAt0ngfYEjUC+8PRs+7lAWAu0yFRHeDJzSjIodgSQMMiYXBs9ZBYO8958HHkoa+4jEloLZIU1wDhkK96L5Sfta15Pd2XToUSxo8oS06U2fPR35ygNOYK7+3tcwP7mt7I9LgCe0B400UNe/HY71 [...] ![](https://eu-images.contentstack.com/v3/assets/blt69509c9116440be8/bltd13004df66a0337a/68376b04e18a8a4c15c00605/Marvin_Clark_Headshot-2.jpg?width=300&auto=webp&quality=40&disable=upscale)\\n\\nJun 3, 2025\\n\\n![](https://eu-images.contentstack.com/v3/assets/blt69509c9116440be8/bltaf3a73afdeb2ba42/68389829868ed3030f39b5d4/2HE02PT.jpg?width=300&auto=webp&quality=40&disable=upscale)\\n\\nMay 30, 2025 [...] ### Editor's Choice\\n\\n![](https://eu-images.contentstack.com/v3/assets/blt69509c9116440be8/bltc41e5ef89a0efba4/682cb62486cb0211fa14c090/John_Deere_equipment-_William_Mullins-alamy.jpg?width=300&auto=webp&quality=40&disable=upscale)\\n\\nMay 29, 2025\\n\\n![](https://eu-images.contentstack.com/v3/assets/blt69509c9116440be8/blt86379d97dd2f0b7d/680a708787ae9747fd942108/Kathy_Kay_Headshot.jpg?width=300&auto=webp&quality=40&disable=upscale)\\n\\nApr 29, 2025\", \"score\": 0.8124067}, {\"title\": \"Machine learning - Latest research and news - Nature\", \"url\": \"https://www.nature.com/subjects/machine-learning\", \"content\": \"![Advertisement](//pubads.g.doubleclick.net/gampad/ad?iu=/285/subjects/machine-learning&sz=300x250&c=1578530913&t=pos%3Darticle-list%26artid%3D)\\n\\n## News and Comment\\n\\n### [Single-cell foundation models evaluated](/articles/s41592-025-02735-x)\\n\\n![](https://media.springernature.com/w290h158/magazine-assets/d41586-025-01836-z/d41586-025-01836-z_51086204.jpg)\\n\\n### [Meet the MIT engineer who invented an AI-powered way to restore art](/articles/d41586-025-01836-z)\", \"score\": 0.71829855}]\n",
      "=================================\u001b[1m Tool Message \u001b[0m=================================\n",
      "Name: arxiv\n",
      "\n",
      "Published: 2012-06-06\n",
      "Title: Research On Mobile Cloud Computing: Review, Trend, And Perspectives\n",
      "Authors: Han Qi, Abdullah Gani\n",
      "Summary: Mobile Cloud Computing (MCC) which combines mobile computing and cloud\n",
      "computing, has become one of the industry buzz words and a major discussion\n",
      "thread in the IT world since 2009. As MCC is still at the early stage of\n",
      "development, it is necessary to grasp a thorough understanding of the\n",
      "technology in order to point out the direction of future research. With t\n",
      "==================================\u001b[1m Ai Message \u001b[0m==================================\n",
      "\n",
      "Here’s the information based on the tool responses:\n",
      "\n",
      "---\n",
      "\n",
      "### **Recent Machine Learning News (from Tavily Search):**\n",
      "1. **John Deere’s ML Application in Agriculture** (May 29, 2025):  \n",
      "   - John Deere is leveraging machine learning to optimize farm equipment and crop management, improving sustainability and yield prediction.  \n",
      "   - [Source: InformationWeek](https://www.informationweek.com/machine-learning-ai)\n",
      "\n",
      "2. **AI-Powered Art Restoration** (Apr 29, 2025):  \n",
      "   - MIT engineers developed an AI tool to restore and preserve historical artworks by analyzing textures and patterns.  \n",
      "   - [Source: Nature](https://www.nature.com/subjects/machine-learning)\n",
      "\n",
      "3. **Single-Cell Analysis Breakthrough** (2025):  \n",
      "   - New machine learning models for single-cell biology are enabling faster analysis of cellular data, aiding in disease research.  \n",
      "   - [Source: Nature](https://www.nature.com/subjects/machine-learning)\n",
      "\n",
      "---\n",
      "\n",
      "### **Recent Cloud Computing Research (from ArXiv):**  \n",
      "⚠️ The ArXiv tool returned a paper titled *\"Research On Mobile Cloud Computing: Review, Trend, And Perspectives (Qi et al., 2012)\"*, which is **11 years old**. This suggests either:  \n",
      "- No recent papers matched the query, or  \n",
      "- The tool may need refinement for up-to-date results.  \n",
      "\n",
      "**Recommendation:** You might want to try a more specific query (e.g., \"cloud computing optimization 2023-2024\") or check platforms like [arXiv.org](https://arxiv.org/) directly for the latest papers.\n",
      "\n",
      "---\n",
      "\n",
      "Let me know if you’d like me to refine the search further or summarize the outdated paper’s content!\n"
     ]
    }
   ],
   "source": [
    "messages=graph.invoke({\"messages\":\"what is recent ml news and then please tell me the recent research papper on cloud computing\"})\n",
    "for m in messages['messages']:\n",
    "    m.pretty_print()"
   ]
  }
 ],
 "metadata": {
  "kernelspec": {
   "display_name": "myenv",
   "language": "python",
   "name": "python3"
  },
  "language_info": {
   "codemirror_mode": {
    "name": "ipython",
    "version": 3
   },
   "file_extension": ".py",
   "mimetype": "text/x-python",
   "name": "python",
   "nbconvert_exporter": "python",
   "pygments_lexer": "ipython3",
   "version": "3.10.15"
  }
 },
 "nbformat": 4,
 "nbformat_minor": 5
}
